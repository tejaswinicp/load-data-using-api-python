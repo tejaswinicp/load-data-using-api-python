{
 "cells": [
  {
   "cell_type": "code",
   "execution_count": 12,
   "metadata": {},
   "outputs": [
    {
     "name": "stderr",
     "output_type": "stream",
     "text": [
      "/home/tejaswinicp/anaconda3/lib/python3.6/site-packages/h5py/__init__.py:36: FutureWarning: Conversion of the second argument of issubdtype from `float` to `np.floating` is deprecated. In future, it will be treated as `np.float64 == np.dtype(float).type`.\n",
      "  from ._conv import register_converters as _register_converters\n"
     ]
    },
    {
     "name": "stdout",
     "output_type": "stream",
     "text": [
      "Loaded data from the Kaggle repository\n"
     ]
    }
   ],
   "source": [
    "from pandas_datareader import data\n",
    "import matplotlib.pyplot as plt\n",
    "import pandas as pd\n",
    "import datetime as dt\n",
    "import urllib.request, json\n",
    "import os\n",
    "import numpy as np\n",
    "import tensorflow as tf # This code has been tested with TensorFlow 1.6\n",
    "from sklearn.preprocessing import MinMaxScaler\n",
    "data_source = 'kaggle' # alphavantage or kaggle\n",
    "\n",
    "if data_source == 'alphavantage':\n",
    "    # ====================== Loading Data from Alpha Vantage ==================================\n",
    "\n",
    "    api_key = '<************>'\n",
    "\n",
    "    # American Airlines stock market prices\n",
    "    ticker = \"AAL\"\n",
    "\n",
    "    # JSON file with all the stock market data for AAL from the last 20 years\n",
    "    url_string = \"https://www.alphavantage.co/query?function=TIME_SERIES_DAILY&symbol=%s&outputsize=full&apikey=%s\"%(ticker,api_key)\n",
    "\n",
    "    # Save data to this file\n",
    "    file_to_save = 'stock_market_data-%s.csv'%ticker\n",
    "\n",
    "    # If you haven't already saved data,\n",
    "    # Go ahead and grab the data from the url\n",
    "    # And store date, low, high, volume, close, open values to a Pandas DataFrame\n",
    "    if not os.path.exists(file_to_save):\n",
    "        with urllib.request.urlopen(url_string) as url:\n",
    "            data = json.loads(url.read().decode())\n",
    "            # extract stock market data\n",
    "            data = data['Time Series (Daily)']\n",
    "            df = pd.DataFrame(columns=['Date','Low','High','Close','Open'])\n",
    "            for k,v in data.items():\n",
    "                date = dt.datetime.strptime(k, '%Y-%m-%d')\n",
    "                data_row = [date.date(),float(v['3. low']),float(v['2. high']),\n",
    "                            float(v['4. close']),float(v['1. open'])]\n",
    "                df.loc[-1,:] = data_row\n",
    "                df.index = df.index + 1\n",
    "        print('Data saved to : %s'%file_to_save)        \n",
    "        df.to_csv(file_to_save)\n",
    "\n",
    "    # If the data is already there, just load it from the CSV\n",
    "    else:\n",
    "        print('File already exists. Loading data from CSV')\n",
    "        df = pd.read_csv(file_to_save)\n",
    "\n",
    "else:\n",
    "\n",
    "    # ====================== Loading Data from Kaggle ==================================\n",
    "    # You will be using HP's data. Feel free to experiment with other data.\n",
    "    # But while doing so, be careful to have a large enough dataset and also pay attention to the data normalization\n",
    "    df = pd.read_csv(os.path.join('Stocks','hpq.us.txt'),delimiter=',',usecols=['Date','Open','High','Low','Close'])\n",
    "    print('Loaded data from the Kaggle repository')"
   ]
  },
  {
   "cell_type": "code",
   "execution_count": 14,
   "metadata": {},
   "outputs": [
    {
     "data": {
      "text/html": [
       "<div>\n",
       "<style scoped>\n",
       "    .dataframe tbody tr th:only-of-type {\n",
       "        vertical-align: middle;\n",
       "    }\n",
       "\n",
       "    .dataframe tbody tr th {\n",
       "        vertical-align: top;\n",
       "    }\n",
       "\n",
       "    .dataframe thead th {\n",
       "        text-align: right;\n",
       "    }\n",
       "</style>\n",
       "<table border=\"1\" class=\"dataframe\">\n",
       "  <thead>\n",
       "    <tr style=\"text-align: right;\">\n",
       "      <th></th>\n",
       "      <th>Date</th>\n",
       "      <th>Open</th>\n",
       "      <th>High</th>\n",
       "      <th>Low</th>\n",
       "      <th>Close</th>\n",
       "    </tr>\n",
       "  </thead>\n",
       "  <tbody>\n",
       "    <tr>\n",
       "      <th>0</th>\n",
       "      <td>1970-01-02</td>\n",
       "      <td>0.30627</td>\n",
       "      <td>0.30627</td>\n",
       "      <td>0.30627</td>\n",
       "      <td>0.30627</td>\n",
       "    </tr>\n",
       "    <tr>\n",
       "      <th>1</th>\n",
       "      <td>1970-01-05</td>\n",
       "      <td>0.30627</td>\n",
       "      <td>0.31768</td>\n",
       "      <td>0.30627</td>\n",
       "      <td>0.31385</td>\n",
       "    </tr>\n",
       "    <tr>\n",
       "      <th>2</th>\n",
       "      <td>1970-01-06</td>\n",
       "      <td>0.31385</td>\n",
       "      <td>0.31385</td>\n",
       "      <td>0.30996</td>\n",
       "      <td>0.30996</td>\n",
       "    </tr>\n",
       "    <tr>\n",
       "      <th>3</th>\n",
       "      <td>1970-01-07</td>\n",
       "      <td>0.31385</td>\n",
       "      <td>0.31385</td>\n",
       "      <td>0.31385</td>\n",
       "      <td>0.31385</td>\n",
       "    </tr>\n",
       "    <tr>\n",
       "      <th>4</th>\n",
       "      <td>1970-01-08</td>\n",
       "      <td>0.31385</td>\n",
       "      <td>0.31768</td>\n",
       "      <td>0.31385</td>\n",
       "      <td>0.31385</td>\n",
       "    </tr>\n",
       "  </tbody>\n",
       "</table>\n",
       "</div>"
      ],
      "text/plain": [
       "         Date     Open     High      Low    Close\n",
       "0  1970-01-02  0.30627  0.30627  0.30627  0.30627\n",
       "1  1970-01-05  0.30627  0.31768  0.30627  0.31385\n",
       "2  1970-01-06  0.31385  0.31385  0.30996  0.30996\n",
       "3  1970-01-07  0.31385  0.31385  0.31385  0.31385\n",
       "4  1970-01-08  0.31385  0.31768  0.31385  0.31385"
      ]
     },
     "execution_count": 14,
     "metadata": {},
     "output_type": "execute_result"
    }
   ],
   "source": [
    "df.head(5)"
   ]
  },
  {
   "cell_type": "code",
   "execution_count": 2,
   "metadata": {},
   "outputs": [
    {
     "name": "stdout",
     "output_type": "stream",
     "text": [
      "<mysql.connector.connection_cext.CMySQLConnection object at 0x7fc6401db4e0>\n"
     ]
    }
   ],
   "source": [
    "import mysql.connector\n",
    "import datetime\n",
    "\n",
    "'''pip install mysql-connector-python'''\n",
    "conn = mysql.connector.connect(\n",
    "         user='*******',\n",
    "         password='******',\n",
    "         host='**********',\n",
    "         database='stocksdb')\n",
    "print(conn)\n",
    "\n",
    "cursor = conn.cursor()\n",
    "\n",
    "query =(\"SELECT * from interview;\")\n",
    "cursor.execute(query)\n",
    "\n",
    "data = []\n",
    "for i in cursor:\n",
    "    data.append(i)"
   ]
  },
  {
   "cell_type": "code",
   "execution_count": 6,
   "metadata": {},
   "outputs": [],
   "source": [
    "import pandas as pd\n",
    "d = pd.DataFrame(data)"
   ]
  },
  {
   "cell_type": "markdown",
   "metadata": {},
   "source": [
    "Display first five elements of the data"
   ]
  },
  {
   "cell_type": "code",
   "execution_count": 4,
   "metadata": {
    "scrolled": true
   },
   "outputs": [
    {
     "data": {
      "text/html": [
       "<div>\n",
       "<style scoped>\n",
       "    .dataframe tbody tr th:only-of-type {\n",
       "        vertical-align: middle;\n",
       "    }\n",
       "\n",
       "    .dataframe tbody tr th {\n",
       "        vertical-align: top;\n",
       "    }\n",
       "\n",
       "    .dataframe thead th {\n",
       "        text-align: right;\n",
       "    }\n",
       "</style>\n",
       "<table border=\"1\" class=\"dataframe\">\n",
       "  <thead>\n",
       "    <tr style=\"text-align: right;\">\n",
       "      <th></th>\n",
       "      <th>0</th>\n",
       "      <th>1</th>\n",
       "      <th>2</th>\n",
       "      <th>3</th>\n",
       "      <th>4</th>\n",
       "      <th>5</th>\n",
       "      <th>6</th>\n",
       "      <th>7</th>\n",
       "      <th>8</th>\n",
       "    </tr>\n",
       "  </thead>\n",
       "  <tbody>\n",
       "    <tr>\n",
       "      <th>0</th>\n",
       "      <td>INE545A01016</td>\n",
       "      <td>NaT</td>\n",
       "      <td>2018-01-01 09:15:00</td>\n",
       "      <td>2419.0</td>\n",
       "      <td>2436.00</td>\n",
       "      <td>2408.90</td>\n",
       "      <td>2435.25</td>\n",
       "      <td>10281</td>\n",
       "      <td>NaN</td>\n",
       "    </tr>\n",
       "    <tr>\n",
       "      <th>1</th>\n",
       "      <td>INE545A01016</td>\n",
       "      <td>NaT</td>\n",
       "      <td>2018-01-01 09:16:00</td>\n",
       "      <td>2435.0</td>\n",
       "      <td>2440.00</td>\n",
       "      <td>2426.45</td>\n",
       "      <td>2439.00</td>\n",
       "      <td>13315</td>\n",
       "      <td>NaN</td>\n",
       "    </tr>\n",
       "    <tr>\n",
       "      <th>2</th>\n",
       "      <td>INE545A01016</td>\n",
       "      <td>NaT</td>\n",
       "      <td>2018-01-01 09:17:00</td>\n",
       "      <td>2439.7</td>\n",
       "      <td>2439.70</td>\n",
       "      <td>2422.10</td>\n",
       "      <td>2424.95</td>\n",
       "      <td>3760</td>\n",
       "      <td>NaN</td>\n",
       "    </tr>\n",
       "    <tr>\n",
       "      <th>3</th>\n",
       "      <td>INE545A01016</td>\n",
       "      <td>NaT</td>\n",
       "      <td>2018-01-01 09:18:00</td>\n",
       "      <td>2420.0</td>\n",
       "      <td>2424.50</td>\n",
       "      <td>2386.50</td>\n",
       "      <td>2395.00</td>\n",
       "      <td>11653</td>\n",
       "      <td>NaN</td>\n",
       "    </tr>\n",
       "    <tr>\n",
       "      <th>4</th>\n",
       "      <td>INE545A01016</td>\n",
       "      <td>NaT</td>\n",
       "      <td>2018-01-01 09:19:00</td>\n",
       "      <td>2395.0</td>\n",
       "      <td>2413.95</td>\n",
       "      <td>2394.70</td>\n",
       "      <td>2409.85</td>\n",
       "      <td>7744</td>\n",
       "      <td>NaN</td>\n",
       "    </tr>\n",
       "  </tbody>\n",
       "</table>\n",
       "</div>"
      ],
      "text/plain": [
       "              0   1                   2       3        4        5        6  \\\n",
       "0  INE545A01016 NaT 2018-01-01 09:15:00  2419.0  2436.00  2408.90  2435.25   \n",
       "1  INE545A01016 NaT 2018-01-01 09:16:00  2435.0  2440.00  2426.45  2439.00   \n",
       "2  INE545A01016 NaT 2018-01-01 09:17:00  2439.7  2439.70  2422.10  2424.95   \n",
       "3  INE545A01016 NaT 2018-01-01 09:18:00  2420.0  2424.50  2386.50  2395.00   \n",
       "4  INE545A01016 NaT 2018-01-01 09:19:00  2395.0  2413.95  2394.70  2409.85   \n",
       "\n",
       "       7   8  \n",
       "0  10281 NaN  \n",
       "1  13315 NaN  \n",
       "2   3760 NaN  \n",
       "3  11653 NaN  \n",
       "4   7744 NaN  "
      ]
     },
     "execution_count": 4,
     "metadata": {},
     "output_type": "execute_result"
    }
   ],
   "source": [
    "d.head(5)"
   ]
  },
  {
   "cell_type": "markdown",
   "metadata": {},
   "source": [
    "Number of elements in the data"
   ]
  },
  {
   "cell_type": "code",
   "execution_count": 5,
   "metadata": {},
   "outputs": [
    {
     "data": {
      "text/plain": [
       "500000"
      ]
     },
     "execution_count": 5,
     "metadata": {},
     "output_type": "execute_result"
    }
   ],
   "source": [
    "len(d)"
   ]
  }
 ],
 "metadata": {
  "kernelspec": {
   "display_name": "Python 3",
   "language": "python",
   "name": "python3"
  },
  "language_info": {
   "codemirror_mode": {
    "name": "ipython",
    "version": 3
   },
   "file_extension": ".py",
   "mimetype": "text/x-python",
   "name": "python",
   "nbconvert_exporter": "python",
   "pygments_lexer": "ipython3",
   "version": "3.6.5"
  }
 },
 "nbformat": 4,
 "nbformat_minor": 2
}
